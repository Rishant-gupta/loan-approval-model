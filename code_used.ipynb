{
 "cells": [
  {
   "metadata": {},
   "cell_type": "markdown",
   "source": "# Loan Approval Status Prediction Model",
   "id": "d1052d60f367c344"
  },
  {
   "metadata": {},
   "cell_type": "markdown",
   "source": "# Importing neccesary libraries",
   "id": "61517705d6abf68"
  },
  {
   "metadata": {
    "ExecuteTime": {
     "end_time": "2025-08-15T18:53:30.418950Z",
     "start_time": "2025-08-15T18:53:30.145539Z"
    }
   },
   "cell_type": "code",
   "source": [
    "import pandas as pd # for data handling\n",
    "import matplotlib.pyplot as plt  # for visualizing the data\n",
    "import seaborn as sns  # for good graphs\n",
    "from sklearn.preprocessing import LabelEncoder  # to encode the categorical data\n",
    "from sklearn.model_selection import train_test_split # to split the data in test and train set\n",
    "from sklearn.linear_model import LogisticRegression # import the module to train\n",
    "from sklearn.tree import DecisionTreeClassifier # import the second module\n",
    "from sklearn.ensemble import RandomForestClassifier # import third model\n",
    "from sklearn.metrics import confusion_matrix, accuracy_score, classification_report # to check the score of both models\n",
    "from sklearn.model_selection import cross_val_score # to get real score on data"
   ],
   "id": "728cf12882b5ba54",
   "outputs": [],
   "execution_count": 1
  },
  {
   "metadata": {},
   "cell_type": "markdown",
   "source": [
    "# Clearing the data and pre-processing\n",
    "**Reading the file**"
   ],
   "id": "db70f79125b0c9fa"
  },
  {
   "metadata": {
    "ExecuteTime": {
     "end_time": "2025-08-15T18:53:30.443252Z",
     "start_time": "2025-08-15T18:53:30.429853Z"
    }
   },
   "cell_type": "code",
   "source": "df=pd.read_csv(\"data/data.csv\")",
   "id": "1d752d30f0433c5a",
   "outputs": [],
   "execution_count": 2
  },
  {
   "metadata": {},
   "cell_type": "markdown",
   "source": "# EDA and summarizing the data before cleaning",
   "id": "1a542fc308b65305"
  },
  {
   "metadata": {},
   "cell_type": "code",
   "source": "df.head()",
   "id": "14096c3f0dfe0ea3",
   "outputs": [],
   "execution_count": null
  },
  {
   "metadata": {
    "ExecuteTime": {
     "end_time": "2025-08-15T18:53:30.537357Z",
     "start_time": "2025-08-15T18:53:30.530176Z"
    }
   },
   "cell_type": "code",
   "source": "df.shape",
   "id": "34cc36e18c00bffa",
   "outputs": [
    {
     "data": {
      "text/plain": [
       "(981, 13)"
      ]
     },
     "execution_count": 4,
     "metadata": {},
     "output_type": "execute_result"
    }
   ],
   "execution_count": 4
  },
  {
   "metadata": {},
   "cell_type": "code",
   "source": "df.info()",
   "id": "a4a04dcdee2413de",
   "outputs": [],
   "execution_count": null
  },
  {
   "metadata": {},
   "cell_type": "code",
   "source": "df.describe()",
   "id": "b6e80b19b795884c",
   "outputs": [],
   "execution_count": null
  },
  {
   "metadata": {},
   "cell_type": "code",
   "source": "df.isnull().sum()",
   "id": "8da50a3a1f2ce553",
   "outputs": [],
   "execution_count": null
  },
  {
   "metadata": {
    "ExecuteTime": {
     "end_time": "2025-08-15T18:53:30.984460Z",
     "start_time": "2025-08-15T18:53:30.977152Z"
    }
   },
   "cell_type": "code",
   "source": "df.duplicated().sum()",
   "id": "7fb17b425a9ccc6c",
   "outputs": [
    {
     "data": {
      "text/plain": [
       "np.int64(0)"
      ]
     },
     "execution_count": 8,
     "metadata": {},
     "output_type": "execute_result"
    }
   ],
   "execution_count": 8
  },
  {
   "metadata": {},
   "cell_type": "markdown",
   "source": [
    "# Cleaning the data\n",
    "* **Removing unwanted column and rows data to train model.**\n",
    "* **367 sections are null in Loan_Status.If i dont remove this and filled it with bluff results then almost 34.7 percent data will be bluff.**"
   ],
   "id": "7901b64b431b5155"
  },
  {
   "metadata": {
    "ExecuteTime": {
     "end_time": "2025-08-15T18:53:31.076219Z",
     "start_time": "2025-08-15T18:53:31.072462Z"
    }
   },
   "cell_type": "code",
   "source": "df=df.drop(columns=['Loan_ID','Gender'])",
   "id": "a0c7804d06a58101",
   "outputs": [],
   "execution_count": 9
  },
  {
   "metadata": {
    "ExecuteTime": {
     "end_time": "2025-08-15T18:53:31.098467Z",
     "start_time": "2025-08-15T18:53:31.091815Z"
    }
   },
   "cell_type": "code",
   "source": "df=df.dropna(subset=['Loan_Status'])",
   "id": "32fc91795028d150",
   "outputs": [],
   "execution_count": 10
  },
  {
   "metadata": {},
   "cell_type": "markdown",
   "source": "##### **Checking no. of null data of column and working according to them**",
   "id": "5b0f141ee43e9775"
  },
  {
   "metadata": {},
   "cell_type": "code",
   "source": "df.isnull().sum()",
   "id": "467a2ac4e29ef531",
   "outputs": [],
   "execution_count": null
  },
  {
   "metadata": {},
   "cell_type": "markdown",
   "source": [
    "# Filling null columns data set\n",
    "* **We have 6 'object' ,4 'float64' and 1 'int64' data type.**\n",
    "* **Analyzing data for using correct function(mode,mean,median) for each column**"
   ],
   "id": "b5f569974d99bd31"
  },
  {
   "metadata": {},
   "cell_type": "code",
   "source": "df",
   "id": "2acaa54bb7fbeaf0",
   "outputs": [],
   "execution_count": null
  },
  {
   "metadata": {},
   "cell_type": "markdown",
   "source": [
    "* **Married/Self_Employed/Dependents/Credit_History = datatype-object, using-mode**\n",
    "* **LoanAmount/Loan_Amount_Term = datatype-float64, using-median**\n",
    "* **Remaining column has no null values.**"
   ],
   "id": "6477baf61d70ddaf"
  },
  {
   "metadata": {
    "ExecuteTime": {
     "end_time": "2025-08-15T18:53:31.368898Z",
     "start_time": "2025-08-15T18:53:31.366321Z"
    }
   },
   "cell_type": "code",
   "source": [
    "mode_column = ['Married','Dependents','Self_Employed','Credit_History']\n",
    "median_column = ['LoanAmount','Loan_Amount_Term']"
   ],
   "id": "98d7605a288d7edb",
   "outputs": [],
   "execution_count": 13
  },
  {
   "metadata": {
    "ExecuteTime": {
     "end_time": "2025-08-15T18:53:31.436651Z",
     "start_time": "2025-08-15T18:53:31.427763Z"
    }
   },
   "cell_type": "code",
   "source": [
    "for column in df.columns:\n",
    "    if column in mode_column:\n",
    "        df[column]=df[column].fillna(df[column].mode()[0])  # we uses [0] to select only one result\n",
    "    elif column in median_column:\n",
    "        df[column]=df[column].fillna(df[column].median())\n"
   ],
   "id": "9d937f9c4071b1e0",
   "outputs": [],
   "execution_count": 14
  },
  {
   "metadata": {},
   "cell_type": "markdown",
   "source": [
    "# Encoding the data of target\n",
    "* **Using Label encoding for target(Loan_status) fisrt to plot better graphs and understand relation**\n",
    "* **Keeping feature as 'object' to plot better graphs and to understand relations**"
   ],
   "id": "8516fd277959276b"
  },
  {
   "metadata": {
    "ExecuteTime": {
     "end_time": "2025-08-15T18:53:31.487576Z",
     "start_time": "2025-08-15T18:53:31.483902Z"
    }
   },
   "cell_type": "code",
   "source": [
    "le = LabelEncoder()\n",
    "df['Loan_Status']=le.fit_transform(df['Loan_Status'])"
   ],
   "id": "feaf5f70e6fcdd5b",
   "outputs": [],
   "execution_count": 15
  },
  {
   "metadata": {},
   "cell_type": "markdown",
   "source": "# EDA after data cleaning",
   "id": "3f522cd0b75b4fc7"
  },
  {
   "metadata": {},
   "cell_type": "code",
   "source": "df.info()",
   "id": "5e0ea879a5aa49f4",
   "outputs": [],
   "execution_count": null
  },
  {
   "metadata": {},
   "cell_type": "code",
   "source": [
    "df.duplicated().sum()\n",
    "df[df.duplicated(keep=False)]"
   ],
   "id": "c5518d43001f7397",
   "outputs": [],
   "execution_count": null
  },
  {
   "metadata": {
    "ExecuteTime": {
     "end_time": "2025-08-15T18:53:31.711733Z",
     "start_time": "2025-08-15T18:53:31.701151Z"
    }
   },
   "cell_type": "code",
   "source": [
    "df = df.drop_duplicates()\n",
    "df.duplicated().sum()"
   ],
   "id": "c78a281494e5fdc8",
   "outputs": [
    {
     "data": {
      "text/plain": [
       "np.int64(0)"
      ]
     },
     "execution_count": 18,
     "metadata": {},
     "output_type": "execute_result"
    }
   ],
   "execution_count": 18
  },
  {
   "metadata": {},
   "cell_type": "markdown",
   "source": [
    "# Corelations between features and Loan Approval\n",
    "### **Highlights :**\n",
    "* **Loan is not approved for those who have credit score 0 very few is approved and most loans approved has credit score 1 so crtedit history has strong factor**\n",
    "* **The approval rate is higher for married applicants compared to unmarried ones, suggesting that marital status might positively influence loan approval decisions. Similarly, applicants from semiurban areas had the highest approval rate.**\n",
    "* **Income has low effect even low income also got approval but also got rejected**\n",
    "* **Loan ammount, time to pay loan also has no effect on loan approval**\n",
    "* **Even applicant with income 80k+ got rejected having credit score 0**"
   ],
   "id": "917f086ad92b2a91"
  },
  {
   "metadata": {},
   "cell_type": "code",
   "source": [
    "plt.figure(figsize=(8,6))\n",
    "sns.scatterplot(data=df,x='ApplicantIncome',y='LoanAmount',hue='Loan_Status',\n",
    "    style='Credit_History',\n",
    "    palette={1: \"green\", 0: \"red\"},  # green for approved, red for rejected\n",
    "    alpha=0.7\n",
    ")\n",
    "\n",
    "plt.title('Applicant Income vs Loan Amount by Loan Status')\n",
    "plt.xlabel('Applicant Income')\n",
    "plt.ylabel('Loan Amount (in thousands)')\n",
    "plt.grid(True)\n",
    "plt.show()\n"
   ],
   "id": "ff50633906da21d5",
   "outputs": [],
   "execution_count": null
  },
  {
   "metadata": {},
   "cell_type": "code",
   "source": [
    "plt.figure(figsize=(8,6))\n",
    "sns.set_context('paper')\n",
    "sns.stripplot(data= df,x='Credit_History',y='ApplicantIncome',hue='Loan_Status',palette={1: \"green\", 0: \"red\"},dodge=True)\n",
    "plt.title('Credit_History vs Applicant Income to check loan status')\n",
    "plt.show()"
   ],
   "id": "1d4333e16de96698",
   "outputs": [],
   "execution_count": null
  },
  {
   "metadata": {},
   "cell_type": "code",
   "source": [
    "plt.figure(figsize=(8,6))\n",
    "sns.set_context('paper')\n",
    "sns.stripplot(data= df,x='Credit_History',y='LoanAmount',hue='Loan_Status',palette={1: \"green\", 0: \"red\"},dodge=True)\n",
    "plt.title('Credit_History vs Loan Ammount to check loan status')\n",
    "plt.show()"
   ],
   "id": "53c6fedda1be045e",
   "outputs": [],
   "execution_count": null
  },
  {
   "metadata": {},
   "cell_type": "code",
   "source": [
    "plt.figure(figsize=(6,5))\n",
    "sns.countplot(\n",
    "    data=df,\n",
    "    x='Married',\n",
    "    hue='Loan_Status',\n",
    "    palette={1: \"green\", 0: \"red\"}\n",
    ")\n",
    "\n",
    "plt.title('Loan Status by Marital Status')\n",
    "plt.xlabel('Married')\n",
    "plt.ylabel('Number of Applicants')\n",
    "plt.grid(axis='y', alpha=0.6)\n",
    "plt.legend(title='Loan Status', labels=['Rejected', 'Approved'])\n",
    "plt.show()\n"
   ],
   "id": "5b0296164af7ec4f",
   "outputs": [],
   "execution_count": null
  },
  {
   "metadata": {},
   "cell_type": "code",
   "source": [
    "plt.figure(figsize=(8,6))\n",
    "sns.countplot(data=df , x='Property_Area', hue='Loan_Status', palette={1: \"green\", 0: \"red\"})\n",
    "plt.title('Property_Area by Loan_Status')\n",
    "plt.ylabel('No. of Applicannts')\n",
    "plt.grid(axis='y', alpha=0.6)\n",
    "plt.legend(title='Loan Status',labels=['Rejected','Approved'])\n",
    "plt.show()"
   ],
   "id": "a82f6f9859c13938",
   "outputs": [],
   "execution_count": null
  },
  {
   "metadata": {},
   "cell_type": "code",
   "source": [
    "plt.figure(figsize=(8,6))\n",
    "sns.set_context('paper')\n",
    "sns.stripplot(data= df,x='Credit_History',y='Loan_Amount_Term',hue='Loan_Status',palette={1: \"green\", 0: \"red\"},dodge=True)\n",
    "plt.title('Credit_History vs Applicant Income to check loan status')\n",
    "plt.grid(True)\n",
    "plt.show()"
   ],
   "id": "5b4a724ce51b4e00",
   "outputs": [],
   "execution_count": null
  },
  {
   "metadata": {},
   "cell_type": "markdown",
   "source": [
    "# Finding the outliers\n",
    "* **Credit_History is clear no outliers**\n",
    "* **CoapplicantIncome has values that can be realistic and partner can earn model will learn by the data**\n",
    "* **For Loan_Ammount_Term loan payment time is realistic and model will learn that 12 and 480 months to pay also in option**\n",
    "* **In LoanAmount min loan price is 9k(if i take it unit k) but it's not improved so it has not error data**\n",
    "* #### **After exploratory data analysis and outlier inspection, certain values in ApplicantIncome and LoanAmount appeared as statistical outliers. However, upon review data of outliers, these values were found to be realistic and potentially valuable for model learning. So, I don't do any outlier trimming or capping was applied to preserve data originality.**"
   ],
   "id": "259fec2fb543f195"
  },
  {
   "metadata": {},
   "cell_type": "code",
   "source": [
    "sns.boxplot(x=df['CoapplicantIncome'])\n",
    "plt.show()"
   ],
   "id": "e95fdcee0ddfb2b0",
   "outputs": [],
   "execution_count": null
  },
  {
   "metadata": {},
   "cell_type": "code",
   "source": [
    "sns.boxplot(x=df['Loan_Amount_Term'])\n",
    "plt.show()"
   ],
   "id": "959fcaac88a46c1",
   "outputs": [],
   "execution_count": null
  },
  {
   "metadata": {},
   "cell_type": "code",
   "source": [
    "sns.boxplot(x=df['LoanAmount'])\n",
    "plt.show()"
   ],
   "id": "a9aa6f1d85541c14",
   "outputs": [],
   "execution_count": null
  },
  {
   "metadata": {},
   "cell_type": "code",
   "source": [
    "sns.boxplot(x=df['ApplicantIncome'])\n",
    "plt.grid(True)\n",
    "plt.show()"
   ],
   "id": "2ab01750bdd9c675",
   "outputs": [],
   "execution_count": null
  },
  {
   "metadata": {},
   "cell_type": "markdown",
   "source": [
    "# Encoding the data of feature columns\n",
    "* For other input columns(feature) one hot encoding using panda"
   ],
   "id": "cb80251bbfb2ac39"
  },
  {
   "metadata": {
    "ExecuteTime": {
     "end_time": "2025-08-15T18:53:33.065193Z",
     "start_time": "2025-08-15T18:53:33.056224Z"
    }
   },
   "cell_type": "code",
   "source": [
    "ohe_column = [column for column in df.columns if df[column].dtype == 'object'] # created the list of column of type object\n",
    "df=pd.get_dummies(df, columns=ohe_column, drop_first=True).astype(int)"
   ],
   "id": "d1682d1f726b3826",
   "outputs": [],
   "execution_count": 29
  },
  {
   "metadata": {
    "ExecuteTime": {
     "end_time": "2025-08-15T18:53:33.087721Z",
     "start_time": "2025-08-15T18:53:33.081860Z"
    }
   },
   "cell_type": "code",
   "source": "df.dtypes[df.dtypes == 'object']",
   "id": "c07ee21627e287c2",
   "outputs": [
    {
     "data": {
      "text/plain": [
       "Series([], dtype: object)"
      ]
     },
     "execution_count": 30,
     "metadata": {},
     "output_type": "execute_result"
    }
   ],
   "execution_count": 30
  },
  {
   "metadata": {},
   "cell_type": "markdown",
   "source": [
    "# Splitting the data to test and train\n",
    "* Here i will use 20% data to test and 80% to train"
   ],
   "id": "c32e375c8501a571"
  },
  {
   "metadata": {
    "ExecuteTime": {
     "end_time": "2025-08-15T18:53:33.124359Z",
     "start_time": "2025-08-15T18:53:33.116674Z"
    }
   },
   "cell_type": "code",
   "source": [
    "X = df.drop(columns=['Loan_Status'])     # X is our feature or say model input\n",
    "y = df['Loan_Status']                    # y is our target or say model output\n",
    "X_train, X_test, y_train, y_test = train_test_split(X, y, test_size=0.2, random_state=42) # split the data in test and train"
   ],
   "id": "512a30577c60d75a",
   "outputs": [],
   "execution_count": 31
  },
  {
   "metadata": {},
   "cell_type": "markdown",
   "source": [
    "# Modelling\n",
    "* **our data is supervised, small and classified type so i will use these two models**"
   ],
   "id": "4a8647d44e82740e"
  },
  {
   "metadata": {},
   "cell_type": "markdown",
   "source": "# Initializing the model 1",
   "id": "bd8ec1c70e8949d9"
  },
  {
   "metadata": {
    "ExecuteTime": {
     "end_time": "2025-08-15T18:53:33.673348Z",
     "start_time": "2025-08-15T18:53:33.141740Z"
    }
   },
   "cell_type": "code",
   "source": [
    "log_model = LogisticRegression(max_iter=10000)\n",
    "log_model.fit(X_train, y_train)\n",
    "y_pred_log= log_model.predict(X_test)"
   ],
   "id": "d89f28c3202b8c78",
   "outputs": [],
   "execution_count": 32
  },
  {
   "metadata": {
    "ExecuteTime": {
     "end_time": "2025-08-15T18:53:33.696493Z",
     "start_time": "2025-08-15T18:53:33.680559Z"
    }
   },
   "cell_type": "code",
   "source": [
    "# Logistic Regression Score\n",
    "print(\"Logistic Regression Accuracy:\", accuracy_score(y_test, log_model.predict(X_test)))\n",
    "print(confusion_matrix(y_test, log_model.predict(X_test)))\n",
    "print(classification_report(y_test, log_model.predict(X_test)))"
   ],
   "id": "fdfc287afd24544e",
   "outputs": [
    {
     "name": "stdout",
     "output_type": "stream",
     "text": [
      "Logistic Regression Accuracy: 0.7560975609756098\n",
      "[[16 30]\n",
      " [ 0 77]]\n",
      "              precision    recall  f1-score   support\n",
      "\n",
      "           0       1.00      0.35      0.52        46\n",
      "           1       0.72      1.00      0.84        77\n",
      "\n",
      "    accuracy                           0.76       123\n",
      "   macro avg       0.86      0.67      0.68       123\n",
      "weighted avg       0.82      0.76      0.72       123\n",
      "\n"
     ]
    }
   ],
   "execution_count": 33
  },
  {
   "metadata": {
    "ExecuteTime": {
     "end_time": "2025-08-15T18:53:36.957733Z",
     "start_time": "2025-08-15T18:53:33.713764Z"
    }
   },
   "cell_type": "code",
   "source": [
    "score_1 = cross_val_score(log_model, X_train, y_train, cv=5)\n",
    "print(\"Cross-validation scores:\", score_1)\n",
    "print(\"Average score:\", score_1.mean())\n"
   ],
   "id": "e88483338a0a6ade",
   "outputs": [
    {
     "name": "stdout",
     "output_type": "stream",
     "text": [
      "Cross-validation scores: [0.81632653 0.83673469 0.82653061 0.81632653 0.84693878]\n",
      "Average score: 0.8285714285714286\n"
     ]
    }
   ],
   "execution_count": 34
  },
  {
   "metadata": {},
   "cell_type": "markdown",
   "source": "# Initializing model 2",
   "id": "1c70e5271c85db7c"
  },
  {
   "metadata": {
    "ExecuteTime": {
     "end_time": "2025-08-15T18:53:37.766376Z",
     "start_time": "2025-08-15T18:53:37.756073Z"
    }
   },
   "cell_type": "code",
   "source": [
    "tree_model = DecisionTreeClassifier()\n",
    "tree_model.fit(X_train, y_train)\n",
    "y_pred_tree = tree_model.predict(X_test)"
   ],
   "id": "8a88f6c66af14013",
   "outputs": [],
   "execution_count": 35
  },
  {
   "metadata": {
    "ExecuteTime": {
     "end_time": "2025-08-15T18:53:37.827786Z",
     "start_time": "2025-08-15T18:53:37.811846Z"
    }
   },
   "cell_type": "code",
   "source": [
    "# Decision Tree Score\n",
    "print(\"Decision Tree Accuracy:\", accuracy_score(y_test, tree_model.predict(X_test)))\n",
    "print(confusion_matrix(y_test, tree_model.predict(X_test)))\n",
    "print(classification_report(y_test, tree_model.predict(X_test)))"
   ],
   "id": "f853ee4d28dda9f8",
   "outputs": [
    {
     "name": "stdout",
     "output_type": "stream",
     "text": [
      "Decision Tree Accuracy: 0.7235772357723578\n",
      "[[22 24]\n",
      " [10 67]]\n",
      "              precision    recall  f1-score   support\n",
      "\n",
      "           0       0.69      0.48      0.56        46\n",
      "           1       0.74      0.87      0.80        77\n",
      "\n",
      "    accuracy                           0.72       123\n",
      "   macro avg       0.71      0.67      0.68       123\n",
      "weighted avg       0.72      0.72      0.71       123\n",
      "\n"
     ]
    }
   ],
   "execution_count": 36
  },
  {
   "metadata": {
    "ExecuteTime": {
     "end_time": "2025-08-15T18:53:37.901814Z",
     "start_time": "2025-08-15T18:53:37.869510Z"
    }
   },
   "cell_type": "code",
   "source": [
    "score_2 = cross_val_score(tree_model, X_train, y_train, cv=5)\n",
    "print(\"Cross-validation scores:\", score_2)\n",
    "print(\"Average score:\", score_2.mean())"
   ],
   "id": "e0e249c537dbcf0f",
   "outputs": [
    {
     "name": "stdout",
     "output_type": "stream",
     "text": [
      "Cross-validation scores: [0.69387755 0.68367347 0.68367347 0.70408163 0.7244898 ]\n",
      "Average score: 0.6979591836734694\n"
     ]
    }
   ],
   "execution_count": 37
  },
  {
   "metadata": {},
   "cell_type": "markdown",
   "source": "# Initializing model 3",
   "id": "2b08854a978ebca8"
  },
  {
   "metadata": {
    "ExecuteTime": {
     "end_time": "2025-08-15T18:53:38.055629Z",
     "start_time": "2025-08-15T18:53:37.914380Z"
    }
   },
   "cell_type": "code",
   "source": [
    "rf = RandomForestClassifier(random_state=42)\n",
    "rf.fit(X_train, y_train)\n",
    "y_pred_rf = rf.predict(X_test)"
   ],
   "id": "62bd225ce6105e55",
   "outputs": [],
   "execution_count": 38
  },
  {
   "metadata": {
    "ExecuteTime": {
     "end_time": "2025-08-15T18:53:38.100422Z",
     "start_time": "2025-08-15T18:53:38.073242Z"
    }
   },
   "cell_type": "code",
   "source": [
    "# Random Forest Score\n",
    "print(\"Random Forest Accuracy:\", accuracy_score(y_test, rf.predict(X_test)))\n",
    "print(confusion_matrix(y_test, rf.predict(X_test)))\n",
    "print(classification_report(y_test, rf.predict(X_test)))"
   ],
   "id": "b1ca2da14d65defb",
   "outputs": [
    {
     "name": "stdout",
     "output_type": "stream",
     "text": [
      "Random Forest Accuracy: 0.7642276422764228\n",
      "[[18 28]\n",
      " [ 1 76]]\n",
      "              precision    recall  f1-score   support\n",
      "\n",
      "           0       0.95      0.39      0.55        46\n",
      "           1       0.73      0.99      0.84        77\n",
      "\n",
      "    accuracy                           0.76       123\n",
      "   macro avg       0.84      0.69      0.70       123\n",
      "weighted avg       0.81      0.76      0.73       123\n",
      "\n"
     ]
    }
   ],
   "execution_count": 39
  },
  {
   "metadata": {
    "ExecuteTime": {
     "end_time": "2025-08-15T18:53:38.731418Z",
     "start_time": "2025-08-15T18:53:38.118374Z"
    }
   },
   "cell_type": "code",
   "source": [
    "score_3 = cross_val_score(rf, X_train, y_train, cv=5)\n",
    "print(\"Cross-validation scores:\", score_3)\n",
    "print(\"Average score:\", score_3.mean())"
   ],
   "id": "ed32373b91a7ca57",
   "outputs": [
    {
     "name": "stdout",
     "output_type": "stream",
     "text": [
      "Cross-validation scores: [0.7755102  0.84693878 0.80612245 0.80612245 0.82653061]\n",
      "Average score: 0.8122448979591838\n"
     ]
    }
   ],
   "execution_count": 40
  },
  {
   "metadata": {},
   "cell_type": "markdown",
   "source": [
    "# Model Evaluation\n",
    "* ### Acurracy order : LogisticRegression > RandomForestClassifier > DecissionTreeClassifier\n",
    "### **Key points from Output of LogisticRegression, due to higher accuracy**\n",
    "\n",
    "* **Model perfectly finds all approved cases (recall = 1.00), but struggles to detect rejected (recall = 0.35).**\n",
    "* **This means it’s biased toward predicting class 1.**\n",
    "* **High precision for class 0 (1.00) means it rarely predicts class 0 incorrectly — but it predicts very rare.**\n",
    "* **Out of total 123 predictions model only made 16 rejected prediction and they all preddict right, whereas 107 preddict as approved where 30 predictions was wrong.**"
   ],
   "id": "71498162a9bf61d1"
  }
 ],
 "metadata": {
  "kernelspec": {
   "display_name": "Python 3",
   "language": "python",
   "name": "python3"
  },
  "language_info": {
   "codemirror_mode": {
    "name": "ipython",
    "version": 2
   },
   "file_extension": ".py",
   "mimetype": "text/x-python",
   "name": "python",
   "nbconvert_exporter": "python",
   "pygments_lexer": "ipython2",
   "version": "2.7.6"
  }
 },
 "nbformat": 4,
 "nbformat_minor": 5
}
