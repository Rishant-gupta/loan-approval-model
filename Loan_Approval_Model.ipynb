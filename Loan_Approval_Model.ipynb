{
 "cells": [
  {
   "metadata": {},
   "cell_type": "markdown",
   "source": "# Loan Approval Status Prediction Model",
   "id": "d1052d60f367c344"
  },
  {
   "metadata": {},
   "cell_type": "markdown",
   "source": "# Importing neccesary libraries",
   "id": "61517705d6abf68"
  },
  {
   "metadata": {
    "ExecuteTime": {
     "end_time": "2025-08-15T17:57:51.254278Z",
     "start_time": "2025-08-15T17:57:50.155767Z"
    }
   },
   "cell_type": "code",
   "source": [
    "import pandas as pd # for data handling\n",
    "import matplotlib.pyplot as plt  # for visualizing the data\n",
    "import seaborn as sns  # for good graphs\n",
    "from sklearn.preprocessing import LabelEncoder  # to encode the categorical data\n",
    "from sklearn.model_selection import train_test_split # to split the data in test and train set\n",
    "from sklearn.linear_model import LogisticRegression # import the module to train\n",
    "from sklearn.tree import DecisionTreeClassifier # import the second module\n",
    "from sklearn.ensemble import RandomForestClassifier # import third model\n",
    "from sklearn.metrics import confusion_matrix, accuracy_score, classification_report # to check the score of both models\n",
    "from sklearn.model_selection import cross_val_score # to get real score on data"
   ],
   "id": "728cf12882b5ba54",
   "outputs": [],
   "execution_count": 1
  },
  {
   "metadata": {},
   "cell_type": "markdown",
   "source": [
    "# Clearing the data and pre-processing\n",
    "**Reading the file**"
   ],
   "id": "db70f79125b0c9fa"
  },
  {
   "metadata": {
    "ExecuteTime": {
     "end_time": "2025-08-15T17:57:51.307932Z",
     "start_time": "2025-08-15T17:57:51.281266Z"
    }
   },
   "cell_type": "code",
   "source": "df=pd.read_csv(\"data/data.csv\")",
   "id": "1d752d30f0433c5a",
   "outputs": [],
   "execution_count": 2
  },
  {
   "metadata": {},
   "cell_type": "markdown",
   "source": "# EDA and summarizing the data before cleaning",
   "id": "1a542fc308b65305"
  },
  {
   "metadata": {
    "ExecuteTime": {
     "end_time": "2025-08-15T17:57:51.399050Z",
     "start_time": "2025-08-15T17:57:51.346545Z"
    }
   },
   "cell_type": "code",
   "source": "df.head()",
   "id": "14096c3f0dfe0ea3",
   "outputs": [
    {
     "data": {
      "text/plain": [
       "    Loan_ID  Gender Married Dependents Education Self_Employed  \\\n",
       "0  LP001174    Male     Yes          0  Graduate            No   \n",
       "1  LP002087  Female      No          0  Graduate            No   \n",
       "2  LP002692    Male     Yes         3+  Graduate           Yes   \n",
       "3  LP001469    Male      No          0  Graduate           Yes   \n",
       "4  LP001029    Male      No          0  Graduate            No   \n",
       "\n",
       "   ApplicantIncome  CoapplicantIncome  LoanAmount  Loan_Amount_Term  \\\n",
       "0             3772              833.0        57.0             360.0   \n",
       "1             2500                0.0        67.0             360.0   \n",
       "2             5677             1424.0       100.0             360.0   \n",
       "3            20166                0.0       650.0             480.0   \n",
       "4             1853             2840.0       114.0             360.0   \n",
       "\n",
       "   Credit_History Property_Area Loan_Status  \n",
       "0             NaN     Semiurban         NaN  \n",
       "1             1.0         Urban           Y  \n",
       "2             1.0         Rural           Y  \n",
       "3             NaN         Urban           Y  \n",
       "4             1.0         Rural           N  "
      ],
      "text/html": [
       "<div>\n",
       "<style scoped>\n",
       "    .dataframe tbody tr th:only-of-type {\n",
       "        vertical-align: middle;\n",
       "    }\n",
       "\n",
       "    .dataframe tbody tr th {\n",
       "        vertical-align: top;\n",
       "    }\n",
       "\n",
       "    .dataframe thead th {\n",
       "        text-align: right;\n",
       "    }\n",
       "</style>\n",
       "<table border=\"1\" class=\"dataframe\">\n",
       "  <thead>\n",
       "    <tr style=\"text-align: right;\">\n",
       "      <th></th>\n",
       "      <th>Loan_ID</th>\n",
       "      <th>Gender</th>\n",
       "      <th>Married</th>\n",
       "      <th>Dependents</th>\n",
       "      <th>Education</th>\n",
       "      <th>Self_Employed</th>\n",
       "      <th>ApplicantIncome</th>\n",
       "      <th>CoapplicantIncome</th>\n",
       "      <th>LoanAmount</th>\n",
       "      <th>Loan_Amount_Term</th>\n",
       "      <th>Credit_History</th>\n",
       "      <th>Property_Area</th>\n",
       "      <th>Loan_Status</th>\n",
       "    </tr>\n",
       "  </thead>\n",
       "  <tbody>\n",
       "    <tr>\n",
       "      <th>0</th>\n",
       "      <td>LP001174</td>\n",
       "      <td>Male</td>\n",
       "      <td>Yes</td>\n",
       "      <td>0</td>\n",
       "      <td>Graduate</td>\n",
       "      <td>No</td>\n",
       "      <td>3772</td>\n",
       "      <td>833.0</td>\n",
       "      <td>57.0</td>\n",
       "      <td>360.0</td>\n",
       "      <td>NaN</td>\n",
       "      <td>Semiurban</td>\n",
       "      <td>NaN</td>\n",
       "    </tr>\n",
       "    <tr>\n",
       "      <th>1</th>\n",
       "      <td>LP002087</td>\n",
       "      <td>Female</td>\n",
       "      <td>No</td>\n",
       "      <td>0</td>\n",
       "      <td>Graduate</td>\n",
       "      <td>No</td>\n",
       "      <td>2500</td>\n",
       "      <td>0.0</td>\n",
       "      <td>67.0</td>\n",
       "      <td>360.0</td>\n",
       "      <td>1.0</td>\n",
       "      <td>Urban</td>\n",
       "      <td>Y</td>\n",
       "    </tr>\n",
       "    <tr>\n",
       "      <th>2</th>\n",
       "      <td>LP002692</td>\n",
       "      <td>Male</td>\n",
       "      <td>Yes</td>\n",
       "      <td>3+</td>\n",
       "      <td>Graduate</td>\n",
       "      <td>Yes</td>\n",
       "      <td>5677</td>\n",
       "      <td>1424.0</td>\n",
       "      <td>100.0</td>\n",
       "      <td>360.0</td>\n",
       "      <td>1.0</td>\n",
       "      <td>Rural</td>\n",
       "      <td>Y</td>\n",
       "    </tr>\n",
       "    <tr>\n",
       "      <th>3</th>\n",
       "      <td>LP001469</td>\n",
       "      <td>Male</td>\n",
       "      <td>No</td>\n",
       "      <td>0</td>\n",
       "      <td>Graduate</td>\n",
       "      <td>Yes</td>\n",
       "      <td>20166</td>\n",
       "      <td>0.0</td>\n",
       "      <td>650.0</td>\n",
       "      <td>480.0</td>\n",
       "      <td>NaN</td>\n",
       "      <td>Urban</td>\n",
       "      <td>Y</td>\n",
       "    </tr>\n",
       "    <tr>\n",
       "      <th>4</th>\n",
       "      <td>LP001029</td>\n",
       "      <td>Male</td>\n",
       "      <td>No</td>\n",
       "      <td>0</td>\n",
       "      <td>Graduate</td>\n",
       "      <td>No</td>\n",
       "      <td>1853</td>\n",
       "      <td>2840.0</td>\n",
       "      <td>114.0</td>\n",
       "      <td>360.0</td>\n",
       "      <td>1.0</td>\n",
       "      <td>Rural</td>\n",
       "      <td>N</td>\n",
       "    </tr>\n",
       "  </tbody>\n",
       "</table>\n",
       "</div>"
      ]
     },
     "execution_count": 3,
     "metadata": {},
     "output_type": "execute_result"
    }
   ],
   "execution_count": 3
  },
  {
   "metadata": {
    "ExecuteTime": {
     "end_time": "2025-08-15T17:57:51.494010Z",
     "start_time": "2025-08-15T17:57:51.488059Z"
    }
   },
   "cell_type": "code",
   "source": "df.shape",
   "id": "34cc36e18c00bffa",
   "outputs": [
    {
     "data": {
      "text/plain": [
       "(981, 13)"
      ]
     },
     "execution_count": 4,
     "metadata": {},
     "output_type": "execute_result"
    }
   ],
   "execution_count": 4
  },
  {
   "metadata": {
    "ExecuteTime": {
     "end_time": "2025-08-15T17:57:51.634931Z",
     "start_time": "2025-08-15T17:57:51.607386Z"
    }
   },
   "cell_type": "code",
   "source": "df.info()",
   "id": "a4a04dcdee2413de",
   "outputs": [
    {
     "name": "stdout",
     "output_type": "stream",
     "text": [
      "<class 'pandas.core.frame.DataFrame'>\n",
      "RangeIndex: 981 entries, 0 to 980\n",
      "Data columns (total 13 columns):\n",
      " #   Column             Non-Null Count  Dtype  \n",
      "---  ------             --------------  -----  \n",
      " 0   Loan_ID            981 non-null    object \n",
      " 1   Gender             957 non-null    object \n",
      " 2   Married            978 non-null    object \n",
      " 3   Dependents         956 non-null    object \n",
      " 4   Education          981 non-null    object \n",
      " 5   Self_Employed      926 non-null    object \n",
      " 6   ApplicantIncome    981 non-null    int64  \n",
      " 7   CoapplicantIncome  981 non-null    float64\n",
      " 8   LoanAmount         954 non-null    float64\n",
      " 9   Loan_Amount_Term   961 non-null    float64\n",
      " 10  Credit_History     902 non-null    float64\n",
      " 11  Property_Area      981 non-null    object \n",
      " 12  Loan_Status        614 non-null    object \n",
      "dtypes: float64(4), int64(1), object(8)\n",
      "memory usage: 99.8+ KB\n"
     ]
    }
   ],
   "execution_count": 5
  },
  {
   "metadata": {
    "ExecuteTime": {
     "end_time": "2025-08-15T17:57:52.062099Z",
     "start_time": "2025-08-15T17:57:52.035305Z"
    }
   },
   "cell_type": "code",
   "source": "df.describe()",
   "id": "b6e80b19b795884c",
   "outputs": [
    {
     "data": {
      "text/plain": [
       "       ApplicantIncome  CoapplicantIncome  LoanAmount  Loan_Amount_Term  \\\n",
       "count       981.000000         981.000000  954.000000        961.000000   \n",
       "mean       5179.795107        1601.916330  142.511530        342.201873   \n",
       "std        5695.104533        2718.772806   77.421743         65.100602   \n",
       "min           0.000000           0.000000    9.000000          6.000000   \n",
       "25%        2875.000000           0.000000  100.000000        360.000000   \n",
       "50%        3800.000000        1110.000000  126.000000        360.000000   \n",
       "75%        5516.000000        2365.000000  162.000000        360.000000   \n",
       "max       81000.000000       41667.000000  700.000000        480.000000   \n",
       "\n",
       "       Credit_History  \n",
       "count      902.000000  \n",
       "mean         0.835920  \n",
       "std          0.370553  \n",
       "min          0.000000  \n",
       "25%          1.000000  \n",
       "50%          1.000000  \n",
       "75%          1.000000  \n",
       "max          1.000000  "
      ],
      "text/html": [
       "<div>\n",
       "<style scoped>\n",
       "    .dataframe tbody tr th:only-of-type {\n",
       "        vertical-align: middle;\n",
       "    }\n",
       "\n",
       "    .dataframe tbody tr th {\n",
       "        vertical-align: top;\n",
       "    }\n",
       "\n",
       "    .dataframe thead th {\n",
       "        text-align: right;\n",
       "    }\n",
       "</style>\n",
       "<table border=\"1\" class=\"dataframe\">\n",
       "  <thead>\n",
       "    <tr style=\"text-align: right;\">\n",
       "      <th></th>\n",
       "      <th>ApplicantIncome</th>\n",
       "      <th>CoapplicantIncome</th>\n",
       "      <th>LoanAmount</th>\n",
       "      <th>Loan_Amount_Term</th>\n",
       "      <th>Credit_History</th>\n",
       "    </tr>\n",
       "  </thead>\n",
       "  <tbody>\n",
       "    <tr>\n",
       "      <th>count</th>\n",
       "      <td>981.000000</td>\n",
       "      <td>981.000000</td>\n",
       "      <td>954.000000</td>\n",
       "      <td>961.000000</td>\n",
       "      <td>902.000000</td>\n",
       "    </tr>\n",
       "    <tr>\n",
       "      <th>mean</th>\n",
       "      <td>5179.795107</td>\n",
       "      <td>1601.916330</td>\n",
       "      <td>142.511530</td>\n",
       "      <td>342.201873</td>\n",
       "      <td>0.835920</td>\n",
       "    </tr>\n",
       "    <tr>\n",
       "      <th>std</th>\n",
       "      <td>5695.104533</td>\n",
       "      <td>2718.772806</td>\n",
       "      <td>77.421743</td>\n",
       "      <td>65.100602</td>\n",
       "      <td>0.370553</td>\n",
       "    </tr>\n",
       "    <tr>\n",
       "      <th>min</th>\n",
       "      <td>0.000000</td>\n",
       "      <td>0.000000</td>\n",
       "      <td>9.000000</td>\n",
       "      <td>6.000000</td>\n",
       "      <td>0.000000</td>\n",
       "    </tr>\n",
       "    <tr>\n",
       "      <th>25%</th>\n",
       "      <td>2875.000000</td>\n",
       "      <td>0.000000</td>\n",
       "      <td>100.000000</td>\n",
       "      <td>360.000000</td>\n",
       "      <td>1.000000</td>\n",
       "    </tr>\n",
       "    <tr>\n",
       "      <th>50%</th>\n",
       "      <td>3800.000000</td>\n",
       "      <td>1110.000000</td>\n",
       "      <td>126.000000</td>\n",
       "      <td>360.000000</td>\n",
       "      <td>1.000000</td>\n",
       "    </tr>\n",
       "    <tr>\n",
       "      <th>75%</th>\n",
       "      <td>5516.000000</td>\n",
       "      <td>2365.000000</td>\n",
       "      <td>162.000000</td>\n",
       "      <td>360.000000</td>\n",
       "      <td>1.000000</td>\n",
       "    </tr>\n",
       "    <tr>\n",
       "      <th>max</th>\n",
       "      <td>81000.000000</td>\n",
       "      <td>41667.000000</td>\n",
       "      <td>700.000000</td>\n",
       "      <td>480.000000</td>\n",
       "      <td>1.000000</td>\n",
       "    </tr>\n",
       "  </tbody>\n",
       "</table>\n",
       "</div>"
      ]
     },
     "execution_count": 6,
     "metadata": {},
     "output_type": "execute_result"
    }
   ],
   "execution_count": 6
  },
  {
   "metadata": {
    "ExecuteTime": {
     "end_time": "2025-08-15T17:57:52.490928Z",
     "start_time": "2025-08-15T17:57:52.482215Z"
    }
   },
   "cell_type": "code",
   "source": "df.isnull().sum()",
   "id": "8da50a3a1f2ce553",
   "outputs": [
    {
     "data": {
      "text/plain": [
       "Loan_ID                0\n",
       "Gender                24\n",
       "Married                3\n",
       "Dependents            25\n",
       "Education              0\n",
       "Self_Employed         55\n",
       "ApplicantIncome        0\n",
       "CoapplicantIncome      0\n",
       "LoanAmount            27\n",
       "Loan_Amount_Term      20\n",
       "Credit_History        79\n",
       "Property_Area          0\n",
       "Loan_Status          367\n",
       "dtype: int64"
      ]
     },
     "execution_count": 7,
     "metadata": {},
     "output_type": "execute_result"
    }
   ],
   "execution_count": 7
  },
  {
   "metadata": {
    "ExecuteTime": {
     "end_time": "2025-08-15T17:57:52.914149Z",
     "start_time": "2025-08-15T17:57:52.902699Z"
    }
   },
   "cell_type": "code",
   "source": "df.duplicated().sum()",
   "id": "7fb17b425a9ccc6c",
   "outputs": [
    {
     "data": {
      "text/plain": [
       "np.int64(0)"
      ]
     },
     "execution_count": 8,
     "metadata": {},
     "output_type": "execute_result"
    }
   ],
   "execution_count": 8
  },
  {
   "metadata": {},
   "cell_type": "markdown",
   "source": [
    "# Cleaning the data\n",
    "* **Removing unwanted column and rows data to train model.**\n",
    "* **367 sections are null in Loan_Status.If i dont remove this and filled it with bluff results then almost 34.7 percent data will be bluff.**"
   ],
   "id": "7901b64b431b5155"
  },
  {
   "metadata": {
    "ExecuteTime": {
     "end_time": "2025-08-15T17:57:53.167631Z",
     "start_time": "2025-08-15T17:57:53.157480Z"
    }
   },
   "cell_type": "code",
   "source": "df=df.drop(columns=['Loan_ID','Gender'])",
   "id": "a0c7804d06a58101",
   "outputs": [],
   "execution_count": 9
  },
  {
   "metadata": {
    "ExecuteTime": {
     "end_time": "2025-08-15T17:57:53.340844Z",
     "start_time": "2025-08-15T17:57:53.330283Z"
    }
   },
   "cell_type": "code",
   "source": "df=df.dropna(subset=['Loan_Status'])",
   "id": "32fc91795028d150",
   "outputs": [],
   "execution_count": 10
  },
  {
   "metadata": {},
   "cell_type": "markdown",
   "source": "##### **Checking no. of null data of column and working according to them**",
   "id": "5b0f141ee43e9775"
  },
  {
   "metadata": {
    "ExecuteTime": {
     "end_time": "2025-08-15T17:57:53.423942Z",
     "start_time": "2025-08-15T17:57:53.414134Z"
    }
   },
   "cell_type": "code",
   "source": "df.isnull().sum()",
   "id": "467a2ac4e29ef531",
   "outputs": [
    {
     "data": {
      "text/plain": [
       "Married               3\n",
       "Dependents           15\n",
       "Education             0\n",
       "Self_Employed        32\n",
       "ApplicantIncome       0\n",
       "CoapplicantIncome     0\n",
       "LoanAmount           22\n",
       "Loan_Amount_Term     14\n",
       "Credit_History       50\n",
       "Property_Area         0\n",
       "Loan_Status           0\n",
       "dtype: int64"
      ]
     },
     "execution_count": 11,
     "metadata": {},
     "output_type": "execute_result"
    }
   ],
   "execution_count": 11
  },
  {
   "metadata": {},
   "cell_type": "markdown",
   "source": [
    "# Filling null columns data set\n",
    "* **We have 6 'object' ,4 'float64' and 1 'int64' data type.**\n",
    "* **Analyzing data for using correct function(mode,mean,median) for each column**"
   ],
   "id": "b5f569974d99bd31"
  },
  {
   "metadata": {
    "ExecuteTime": {
     "end_time": "2025-08-15T18:27:58.872786Z",
     "start_time": "2025-08-15T18:27:58.858135Z"
    }
   },
   "cell_type": "code",
   "source": "df",
   "id": "2acaa54bb7fbeaf0",
   "outputs": [
    {
     "data": {
      "text/plain": [
       "     ApplicantIncome  CoapplicantIncome  LoanAmount  Loan_Amount_Term  \\\n",
       "1               2500                  0          67               360   \n",
       "2               5677               1424         100               360   \n",
       "3              20166                  0         650               480   \n",
       "4               1853               2840         114               360   \n",
       "5               5191                  0         132               360   \n",
       "..               ...                ...         ...               ...   \n",
       "973            12841              10968         349               360   \n",
       "974             2165                  0          70               360   \n",
       "975             6417                  0         157               180   \n",
       "978             2609               3449         165               180   \n",
       "980             2237                  0          63               480   \n",
       "\n",
       "     Credit_History  Loan_Status  Married_Yes  Dependents_1  Dependents_2  \\\n",
       "1                 1            1            0             0             0   \n",
       "2                 1            1            1             0             0   \n",
       "3                 1            1            0             0             0   \n",
       "4                 1            0            0             0             0   \n",
       "5                 1            1            0             1             0   \n",
       "..              ...          ...          ...           ...           ...   \n",
       "973               1            0            1             1             0   \n",
       "974               1            1            0             0             0   \n",
       "975               1            1            1             0             0   \n",
       "978               0            0            1             0             0   \n",
       "980               0            0            0             0             0   \n",
       "\n",
       "     Dependents_3+  Education_Not Graduate  Self_Employed_Yes  \\\n",
       "1                0                       0                  0   \n",
       "2                1                       0                  1   \n",
       "3                0                       0                  1   \n",
       "4                0                       0                  0   \n",
       "5                0                       1                  0   \n",
       "..             ...                     ...                ...   \n",
       "973              0                       0                  0   \n",
       "974              0                       1                  0   \n",
       "975              1                       0                  0   \n",
       "978              0                       1                  1   \n",
       "980              0                       0                  0   \n",
       "\n",
       "     Property_Area_Semiurban  Property_Area_Urban  \n",
       "1                          0                    1  \n",
       "2                          0                    0  \n",
       "3                          0                    1  \n",
       "4                          0                    0  \n",
       "5                          1                    0  \n",
       "..                       ...                  ...  \n",
       "973                        1                    0  \n",
       "974                        1                    0  \n",
       "975                        0                    0  \n",
       "978                        0                    0  \n",
       "980                        1                    0  \n",
       "\n",
       "[613 rows x 14 columns]"
      ],
      "text/html": [
       "<div>\n",
       "<style scoped>\n",
       "    .dataframe tbody tr th:only-of-type {\n",
       "        vertical-align: middle;\n",
       "    }\n",
       "\n",
       "    .dataframe tbody tr th {\n",
       "        vertical-align: top;\n",
       "    }\n",
       "\n",
       "    .dataframe thead th {\n",
       "        text-align: right;\n",
       "    }\n",
       "</style>\n",
       "<table border=\"1\" class=\"dataframe\">\n",
       "  <thead>\n",
       "    <tr style=\"text-align: right;\">\n",
       "      <th></th>\n",
       "      <th>ApplicantIncome</th>\n",
       "      <th>CoapplicantIncome</th>\n",
       "      <th>LoanAmount</th>\n",
       "      <th>Loan_Amount_Term</th>\n",
       "      <th>Credit_History</th>\n",
       "      <th>Loan_Status</th>\n",
       "      <th>Married_Yes</th>\n",
       "      <th>Dependents_1</th>\n",
       "      <th>Dependents_2</th>\n",
       "      <th>Dependents_3+</th>\n",
       "      <th>Education_Not Graduate</th>\n",
       "      <th>Self_Employed_Yes</th>\n",
       "      <th>Property_Area_Semiurban</th>\n",
       "      <th>Property_Area_Urban</th>\n",
       "    </tr>\n",
       "  </thead>\n",
       "  <tbody>\n",
       "    <tr>\n",
       "      <th>1</th>\n",
       "      <td>2500</td>\n",
       "      <td>0</td>\n",
       "      <td>67</td>\n",
       "      <td>360</td>\n",
       "      <td>1</td>\n",
       "      <td>1</td>\n",
       "      <td>0</td>\n",
       "      <td>0</td>\n",
       "      <td>0</td>\n",
       "      <td>0</td>\n",
       "      <td>0</td>\n",
       "      <td>0</td>\n",
       "      <td>0</td>\n",
       "      <td>1</td>\n",
       "    </tr>\n",
       "    <tr>\n",
       "      <th>2</th>\n",
       "      <td>5677</td>\n",
       "      <td>1424</td>\n",
       "      <td>100</td>\n",
       "      <td>360</td>\n",
       "      <td>1</td>\n",
       "      <td>1</td>\n",
       "      <td>1</td>\n",
       "      <td>0</td>\n",
       "      <td>0</td>\n",
       "      <td>1</td>\n",
       "      <td>0</td>\n",
       "      <td>1</td>\n",
       "      <td>0</td>\n",
       "      <td>0</td>\n",
       "    </tr>\n",
       "    <tr>\n",
       "      <th>3</th>\n",
       "      <td>20166</td>\n",
       "      <td>0</td>\n",
       "      <td>650</td>\n",
       "      <td>480</td>\n",
       "      <td>1</td>\n",
       "      <td>1</td>\n",
       "      <td>0</td>\n",
       "      <td>0</td>\n",
       "      <td>0</td>\n",
       "      <td>0</td>\n",
       "      <td>0</td>\n",
       "      <td>1</td>\n",
       "      <td>0</td>\n",
       "      <td>1</td>\n",
       "    </tr>\n",
       "    <tr>\n",
       "      <th>4</th>\n",
       "      <td>1853</td>\n",
       "      <td>2840</td>\n",
       "      <td>114</td>\n",
       "      <td>360</td>\n",
       "      <td>1</td>\n",
       "      <td>0</td>\n",
       "      <td>0</td>\n",
       "      <td>0</td>\n",
       "      <td>0</td>\n",
       "      <td>0</td>\n",
       "      <td>0</td>\n",
       "      <td>0</td>\n",
       "      <td>0</td>\n",
       "      <td>0</td>\n",
       "    </tr>\n",
       "    <tr>\n",
       "      <th>5</th>\n",
       "      <td>5191</td>\n",
       "      <td>0</td>\n",
       "      <td>132</td>\n",
       "      <td>360</td>\n",
       "      <td>1</td>\n",
       "      <td>1</td>\n",
       "      <td>0</td>\n",
       "      <td>1</td>\n",
       "      <td>0</td>\n",
       "      <td>0</td>\n",
       "      <td>1</td>\n",
       "      <td>0</td>\n",
       "      <td>1</td>\n",
       "      <td>0</td>\n",
       "    </tr>\n",
       "    <tr>\n",
       "      <th>...</th>\n",
       "      <td>...</td>\n",
       "      <td>...</td>\n",
       "      <td>...</td>\n",
       "      <td>...</td>\n",
       "      <td>...</td>\n",
       "      <td>...</td>\n",
       "      <td>...</td>\n",
       "      <td>...</td>\n",
       "      <td>...</td>\n",
       "      <td>...</td>\n",
       "      <td>...</td>\n",
       "      <td>...</td>\n",
       "      <td>...</td>\n",
       "      <td>...</td>\n",
       "    </tr>\n",
       "    <tr>\n",
       "      <th>973</th>\n",
       "      <td>12841</td>\n",
       "      <td>10968</td>\n",
       "      <td>349</td>\n",
       "      <td>360</td>\n",
       "      <td>1</td>\n",
       "      <td>0</td>\n",
       "      <td>1</td>\n",
       "      <td>1</td>\n",
       "      <td>0</td>\n",
       "      <td>0</td>\n",
       "      <td>0</td>\n",
       "      <td>0</td>\n",
       "      <td>1</td>\n",
       "      <td>0</td>\n",
       "    </tr>\n",
       "    <tr>\n",
       "      <th>974</th>\n",
       "      <td>2165</td>\n",
       "      <td>0</td>\n",
       "      <td>70</td>\n",
       "      <td>360</td>\n",
       "      <td>1</td>\n",
       "      <td>1</td>\n",
       "      <td>0</td>\n",
       "      <td>0</td>\n",
       "      <td>0</td>\n",
       "      <td>0</td>\n",
       "      <td>1</td>\n",
       "      <td>0</td>\n",
       "      <td>1</td>\n",
       "      <td>0</td>\n",
       "    </tr>\n",
       "    <tr>\n",
       "      <th>975</th>\n",
       "      <td>6417</td>\n",
       "      <td>0</td>\n",
       "      <td>157</td>\n",
       "      <td>180</td>\n",
       "      <td>1</td>\n",
       "      <td>1</td>\n",
       "      <td>1</td>\n",
       "      <td>0</td>\n",
       "      <td>0</td>\n",
       "      <td>1</td>\n",
       "      <td>0</td>\n",
       "      <td>0</td>\n",
       "      <td>0</td>\n",
       "      <td>0</td>\n",
       "    </tr>\n",
       "    <tr>\n",
       "      <th>978</th>\n",
       "      <td>2609</td>\n",
       "      <td>3449</td>\n",
       "      <td>165</td>\n",
       "      <td>180</td>\n",
       "      <td>0</td>\n",
       "      <td>0</td>\n",
       "      <td>1</td>\n",
       "      <td>0</td>\n",
       "      <td>0</td>\n",
       "      <td>0</td>\n",
       "      <td>1</td>\n",
       "      <td>1</td>\n",
       "      <td>0</td>\n",
       "      <td>0</td>\n",
       "    </tr>\n",
       "    <tr>\n",
       "      <th>980</th>\n",
       "      <td>2237</td>\n",
       "      <td>0</td>\n",
       "      <td>63</td>\n",
       "      <td>480</td>\n",
       "      <td>0</td>\n",
       "      <td>0</td>\n",
       "      <td>0</td>\n",
       "      <td>0</td>\n",
       "      <td>0</td>\n",
       "      <td>0</td>\n",
       "      <td>0</td>\n",
       "      <td>0</td>\n",
       "      <td>1</td>\n",
       "      <td>0</td>\n",
       "    </tr>\n",
       "  </tbody>\n",
       "</table>\n",
       "<p>613 rows × 14 columns</p>\n",
       "</div>"
      ]
     },
     "execution_count": 41,
     "metadata": {},
     "output_type": "execute_result"
    }
   ],
   "execution_count": 41
  },
  {
   "metadata": {},
   "cell_type": "markdown",
   "source": [
    "* **Married/Self_Employed/Dependents/Credit_History = datatype-object, using-mode**\n",
    "* **LoanAmount/Loan_Amount_Term = datatype-float64, using-median**\n",
    "* **Remaining column has no null values.**"
   ],
   "id": "6477baf61d70ddaf"
  },
  {
   "metadata": {
    "ExecuteTime": {
     "end_time": "2025-08-15T18:27:58.958692Z",
     "start_time": "2025-08-15T18:27:58.954614Z"
    }
   },
   "cell_type": "code",
   "source": [
    "mode_column = ['Married','Dependents','Self_Employed','Credit_History']\n",
    "median_column = ['LoanAmount','Loan_Amount_Term']"
   ],
   "id": "98d7605a288d7edb",
   "outputs": [],
   "execution_count": 42
  },
  {
   "metadata": {
    "ExecuteTime": {
     "end_time": "2025-08-15T18:27:59.051262Z",
     "start_time": "2025-08-15T18:27:59.045179Z"
    }
   },
   "cell_type": "code",
   "source": [
    "for column in df.columns:\n",
    "    if column in mode_column:\n",
    "        df[column]=df[column].fillna(df[column].mode()[0])  # we uses [0] to select only one result\n",
    "    elif column in median_column:\n",
    "        df[column]=df[column].fillna(df[column].median())\n"
   ],
   "id": "9d937f9c4071b1e0",
   "outputs": [],
   "execution_count": 43
  },
  {
   "metadata": {},
   "cell_type": "markdown",
   "source": [
    "# Encoding the data of target\n",
    "* **Using Label encoding for target(Loan_status) fisrt to plot better graphs and understand relation**\n",
    "* **Keeping feature as 'object' to plot better graphs and to understand relations**"
   ],
   "id": "8516fd277959276b"
  },
  {
   "metadata": {
    "ExecuteTime": {
     "end_time": "2025-08-15T17:57:54.338582Z",
     "start_time": "2025-08-15T17:57:54.331444Z"
    }
   },
   "cell_type": "code",
   "source": [
    "le = LabelEncoder()\n",
    "df['Loan_Status']=le.fit_transform(df['Loan_Status'])"
   ],
   "id": "feaf5f70e6fcdd5b",
   "outputs": [],
   "execution_count": 15
  },
  {
   "metadata": {},
   "cell_type": "markdown",
   "source": "# EDA after data cleaning",
   "id": "3f522cd0b75b4fc7"
  },
  {
   "metadata": {
    "ExecuteTime": {
     "end_time": "2025-08-15T17:57:54.511978Z",
     "start_time": "2025-08-15T17:57:54.500657Z"
    }
   },
   "cell_type": "code",
   "source": "df.info()",
   "id": "5e0ea879a5aa49f4",
   "outputs": [
    {
     "name": "stdout",
     "output_type": "stream",
     "text": [
      "<class 'pandas.core.frame.DataFrame'>\n",
      "Index: 614 entries, 1 to 980\n",
      "Data columns (total 11 columns):\n",
      " #   Column             Non-Null Count  Dtype  \n",
      "---  ------             --------------  -----  \n",
      " 0   Married            614 non-null    object \n",
      " 1   Dependents         614 non-null    object \n",
      " 2   Education          614 non-null    object \n",
      " 3   Self_Employed      614 non-null    object \n",
      " 4   ApplicantIncome    614 non-null    int64  \n",
      " 5   CoapplicantIncome  614 non-null    float64\n",
      " 6   LoanAmount         614 non-null    float64\n",
      " 7   Loan_Amount_Term   614 non-null    float64\n",
      " 8   Credit_History     614 non-null    float64\n",
      " 9   Property_Area      614 non-null    object \n",
      " 10  Loan_Status        614 non-null    int64  \n",
      "dtypes: float64(4), int64(2), object(5)\n",
      "memory usage: 57.6+ KB\n"
     ]
    }
   ],
   "execution_count": 16
  },
  {
   "metadata": {
    "ExecuteTime": {
     "end_time": "2025-08-15T17:57:54.703563Z",
     "start_time": "2025-08-15T17:57:54.674623Z"
    }
   },
   "cell_type": "code",
   "source": [
    "df.duplicated().sum()\n",
    "df[df.duplicated(keep=False)]"
   ],
   "id": "c5518d43001f7397",
   "outputs": [
    {
     "data": {
      "text/plain": [
       "    Married Dependents Education Self_Employed  ApplicantIncome  \\\n",
       "378     Yes          0  Graduate            No             4333   \n",
       "460     Yes          0  Graduate            No             4333   \n",
       "\n",
       "     CoapplicantIncome  LoanAmount  Loan_Amount_Term  Credit_History  \\\n",
       "378             2451.0       110.0             360.0             1.0   \n",
       "460             2451.0       110.0             360.0             1.0   \n",
       "\n",
       "    Property_Area  Loan_Status  \n",
       "378         Urban            0  \n",
       "460         Urban            0  "
      ],
      "text/html": [
       "<div>\n",
       "<style scoped>\n",
       "    .dataframe tbody tr th:only-of-type {\n",
       "        vertical-align: middle;\n",
       "    }\n",
       "\n",
       "    .dataframe tbody tr th {\n",
       "        vertical-align: top;\n",
       "    }\n",
       "\n",
       "    .dataframe thead th {\n",
       "        text-align: right;\n",
       "    }\n",
       "</style>\n",
       "<table border=\"1\" class=\"dataframe\">\n",
       "  <thead>\n",
       "    <tr style=\"text-align: right;\">\n",
       "      <th></th>\n",
       "      <th>Married</th>\n",
       "      <th>Dependents</th>\n",
       "      <th>Education</th>\n",
       "      <th>Self_Employed</th>\n",
       "      <th>ApplicantIncome</th>\n",
       "      <th>CoapplicantIncome</th>\n",
       "      <th>LoanAmount</th>\n",
       "      <th>Loan_Amount_Term</th>\n",
       "      <th>Credit_History</th>\n",
       "      <th>Property_Area</th>\n",
       "      <th>Loan_Status</th>\n",
       "    </tr>\n",
       "  </thead>\n",
       "  <tbody>\n",
       "    <tr>\n",
       "      <th>378</th>\n",
       "      <td>Yes</td>\n",
       "      <td>0</td>\n",
       "      <td>Graduate</td>\n",
       "      <td>No</td>\n",
       "      <td>4333</td>\n",
       "      <td>2451.0</td>\n",
       "      <td>110.0</td>\n",
       "      <td>360.0</td>\n",
       "      <td>1.0</td>\n",
       "      <td>Urban</td>\n",
       "      <td>0</td>\n",
       "    </tr>\n",
       "    <tr>\n",
       "      <th>460</th>\n",
       "      <td>Yes</td>\n",
       "      <td>0</td>\n",
       "      <td>Graduate</td>\n",
       "      <td>No</td>\n",
       "      <td>4333</td>\n",
       "      <td>2451.0</td>\n",
       "      <td>110.0</td>\n",
       "      <td>360.0</td>\n",
       "      <td>1.0</td>\n",
       "      <td>Urban</td>\n",
       "      <td>0</td>\n",
       "    </tr>\n",
       "  </tbody>\n",
       "</table>\n",
       "</div>"
      ]
     },
     "execution_count": 17,
     "metadata": {},
     "output_type": "execute_result"
    }
   ],
   "execution_count": 17
  },
  {
   "metadata": {
    "ExecuteTime": {
     "end_time": "2025-08-15T17:57:55.111004Z",
     "start_time": "2025-08-15T17:57:55.099482Z"
    }
   },
   "cell_type": "code",
   "source": [
    "df = df.drop_duplicates()\n",
    "df.duplicated().sum()"
   ],
   "id": "c78a281494e5fdc8",
   "outputs": [
    {
     "data": {
      "text/plain": [
       "np.int64(0)"
      ]
     },
     "execution_count": 18,
     "metadata": {},
     "output_type": "execute_result"
    }
   ],
   "execution_count": 18
  },
  {
   "metadata": {},
   "cell_type": "markdown",
   "source": [
    "# Corelations between features and Loan Approval\n",
    "### **Highlights :**\n",
    "* **Loan is not approved for those who have credit score 0 very few is approved and most loans approved has credit score 1 so crtedit history has strong factor**\n",
    "* **The approval rate is higher for married applicants compared to unmarried ones, suggesting that marital status might positively influence loan approval decisions. Similarly, applicants from semiurban areas had the highest approval rate.**\n",
    "* **Income has low effect even low income also got approval but also got rejected**\n",
    "* **Loan ammount, time to pay loan also has no effect on loan approval**\n",
    "* **Even applicant with income 80k+ got rejected having credit score 0**"
   ],
   "id": "917f086ad92b2a91"
  },
  {
   "metadata": {
    "ExecuteTime": {
     "end_time": "2025-08-15T17:57:56.038475Z",
     "start_time": "2025-08-15T17:57:55.448354Z"
    }
   },
   "cell_type": "code",
   "source": [
    "plt.figure(figsize=(8,6))\n",
    "sns.scatterplot(data=df,x='ApplicantIncome',y='LoanAmount',hue='Loan_Status',\n",
    "    style='Credit_History',\n",
    "    palette={1: \"green\", 0: \"red\"},  # green for approved, red for rejected\n",
    "    alpha=0.7\n",
    ")\n",
    "\n",
    "plt.title('Applicant Income vs Loan Amount by Loan Status')\n",
    "plt.xlabel('Applicant Income')\n",
    "plt.ylabel('Loan Amount (in thousands)')\n",
    "plt.grid(True)\n",
    "plt.show()\n"
   ],
   "id": "ff50633906da21d5",
   "outputs": [
    {
     "data": {
      "text/plain": [
       "<Figure size 800x600 with 1 Axes>"
      ],
      "image/png": "[encoded data removed]"
     },
     "metadata": {},
     "output_type": "display_data"
    }
   ],
   "execution_count": 19
  },
  {
   "metadata": {
    "ExecuteTime": {
     "end_time": "2025-08-15T17:57:56.298209Z",
     "start_time": "2025-08-15T17:57:56.086985Z"
    }
   },
   "cell_type": "code",
   "source": [
    "plt.figure(figsize=(8,6))\n",
    "sns.set_context('paper')\n",
    "sns.stripplot(data= df,x='Credit_History',y='ApplicantIncome',hue='Loan_Status',palette={1: \"green\", 0: \"red\"},dodge=True)\n",
    "plt.title('Credit_History vs Applicant Income to check loan status')\n",
    "plt.show()"
   ],
   "id": "1d4333e16de96698",
   "outputs": [
    {
     "data": {
      "text/plain": [
       "<Figure size 800x600 with 1 Axes>"
      ],
      "image/png": "[encoded data removed]"
     },
     "metadata": {},
     "output_type": "display_data"
    }
   ],
   "execution_count": 20
  },
  {
   "metadata": {
    "ExecuteTime": {
     "end_time": "2025-08-15T17:57:56.509899Z",
     "start_time": "2025-08-15T17:57:56.312842Z"
    }
   },
   "cell_type": "code",
   "source": [
    "plt.figure(figsize=(8,6))\n",
    "sns.set_context('paper')\n",
    "sns.stripplot(data= df,x='Credit_History',y='LoanAmount',hue='Loan_Status',palette={1: \"green\", 0: \"red\"},dodge=True)\n",
    "plt.title('Credit_History vs Loan Ammount to check loan status')\n",
    "plt.show()"
   ],
   "id": "53c6fedda1be045e",
   "outputs": [
    {
     "data": {
      "text/plain": [
       "<Figure size 800x600 with 1 Axes>"
      ],
      "image/png": "[encoded data removed]"
     },
     "metadata": {},
     "output_type": "display_data"
    }
   ],
   "execution_count": 21
  },
  {
   "metadata": {
    "ExecuteTime": {
     "end_time": "2025-08-15T17:57:56.759658Z",
     "start_time": "2025-08-15T17:57:56.545162Z"
    }
   },
   "cell_type": "code",
   "source": [
    "plt.figure(figsize=(6,5))\n",
    "sns.countplot(\n",
    "    data=df,\n",
    "    x='Married',\n",
    "    hue='Loan_Status',\n",
    "    palette={1: \"green\", 0: \"red\"}\n",
    ")\n",
    "\n",
    "plt.title('Loan Status by Marital Status')\n",
    "plt.xlabel('Married')\n",
    "plt.ylabel('Number of Applicants')\n",
    "plt.grid(axis='y', alpha=0.6)\n",
    "plt.legend(title='Loan Status', labels=['Rejected', 'Approved'])\n",
    "plt.show()\n"
   ],
   "id": "5b0296164af7ec4f",
   "outputs": [
    {
     "data": {
      "text/plain": [
       "<Figure size 600x500 with 1 Axes>"
      ],
      "image/png": "[encoded data removed]"
     },
     "metadata": {},
     "output_type": "display_data"
    }
   ],
   "execution_count": 22
  },
  {
   "metadata": {
    "ExecuteTime": {
     "end_time": "2025-08-15T17:57:56.940296Z",
     "start_time": "2025-08-15T17:57:56.786953Z"
    }
   },
   "cell_type": "code",
   "source": [
    "plt.figure(figsize=(8,6))\n",
    "sns.countplot(data=df , x='Property_Area', hue='Loan_Status', palette={1: \"green\", 0: \"red\"})\n",
    "plt.title('Property_Area by Loan_Status')\n",
    "plt.ylabel('No. of Applicannts')\n",
    "plt.grid(axis='y', alpha=0.6)\n",
    "plt.legend(title='Loan Status',labels=['Rejected','Approved'])\n",
    "plt.show()"
   ],
   "id": "a82f6f9859c13938",
   "outputs": [
    {
     "data": {
      "text/plain": [
       "<Figure size 800x600 with 1 Axes>"
      ],
      "image/png": "[encoded data removed]"
     },
     "metadata": {},
     "output_type": "display_data"
    }
   ],
   "execution_count": 23
  },
  {
   "metadata": {
    "ExecuteTime": {
     "end_time": "2025-08-15T17:57:57.202542Z",
     "start_time": "2025-08-15T17:57:56.953156Z"
    }
   },
   "cell_type": "code",
   "source": [
    "plt.figure(figsize=(8,6))\n",
    "sns.set_context('paper')\n",
    "sns.stripplot(data= df,x='Credit_History',y='Loan_Amount_Term',hue='Loan_Status',palette={1: \"green\", 0: \"red\"},dodge=True)\n",
    "plt.title('Credit_History vs Applicant Income to check loan status')\n",
    "plt.grid(True)\n",
    "plt.show()"
   ],
   "id": "5b4a724ce51b4e00",
   "outputs": [
    {
     "data": {
      "text/plain": [
       "<Figure size 800x600 with 1 Axes>"
      ],
      "image/png": "[encoded data removed]"
     },
     "metadata": {},
     "output_type": "display_data"
    }
   ],
   "execution_count": 24
  },
  {
   "metadata": {},
   "cell_type": "markdown",
   "source": [
    "# Finding the outliers\n",
    "* **Credit_History is clear no outliers**\n",
    "* **CoapplicantIncome has values that can be realistic and partner can earn model will learn by the data**\n",
    "* **For Loan_Ammount_Term loan payment time is realistic and model will learn that 12 and 480 months to pay also in option**\n",
    "* **In LoanAmount min loan price is 9k(if i take it unit k) but it's not improved so it has not error data**\n",
    "* #### **After exploratory data analysis and outlier inspection, certain values in ApplicantIncome and LoanAmount appeared as statistical outliers. However, upon review data of outliers, these values were found to be realistic and potentially valuable for model learning. So, I don't do any outlier trimming or capping was applied to preserve data originality.**"
   ],
   "id": "259fec2fb543f195"
  },
  {
   "metadata": {
    "ExecuteTime": {
     "end_time": "2025-08-15T17:57:57.349658Z",
     "start_time": "2025-08-15T17:57:57.243189Z"
    }
   },
   "cell_type": "code",
   "source": [
    "sns.boxplot(x=df['CoapplicantIncome'])\n",
    "plt.show()"
   ],
   "id": "e95fdcee0ddfb2b0",
   "outputs": [
    {
     "data": {
      "text/plain": [
       "<Figure size 640x480 with 1 Axes>"
      ],
      "image/png": "[encoded data removed]"
     },
     "metadata": {},
     "output_type": "display_data"
    }
   ],
   "execution_count": 25
  },
  {
   "metadata": {
    "ExecuteTime": {
     "end_time": "2025-08-15T17:57:57.519246Z",
     "start_time": "2025-08-15T17:57:57.401706Z"
    }
   },
   "cell_type": "code",
   "source": [
    "sns.boxplot(x=df['Loan_Amount_Term'])\n",
    "plt.show()"
   ],
   "id": "959fcaac88a46c1",
   "outputs": [
    {
     "data": {
      "text/plain": [
       "<Figure size 640x480 with 1 Axes>"
      ],
      "image/png": "[encoded data removed]"
     },
     "metadata": {},
     "output_type": "display_data"
    }
   ],
   "execution_count": 26
  },
  {
   "metadata": {
    "ExecuteTime": {
     "end_time": "2025-08-15T17:57:57.682465Z",
     "start_time": "2025-08-15T17:57:57.556423Z"
    }
   },
   "cell_type": "code",
   "source": [
    "sns.boxplot(x=df['LoanAmount'])\n",
    "plt.show()"
   ],
   "id": "a9aa6f1d85541c14",
   "outputs": [
    {
     "data": {
      "text/plain": [
       "<Figure size 640x480 with 1 Axes>"
      ],
      "image/png": "[encoded data removed]"
     },
     "metadata": {},
     "output_type": "display_data"
    }
   ],
   "execution_count": 27
  },
  {
   "metadata": {
    "ExecuteTime": {
     "end_time": "2025-08-15T17:57:57.845642Z",
     "start_time": "2025-08-15T17:57:57.717947Z"
    }
   },
   "cell_type": "code",
   "source": [
    "sns.boxplot(x=df['ApplicantIncome'])\n",
    "plt.grid(True)\n",
    "plt.show()"
   ],
   "id": "2ab01750bdd9c675",
   "outputs": [
    {
     "data": {
      "text/plain": [
       "<Figure size 640x480 with 1 Axes>"
      ],
      "image/png": "[encoded data removed]"
     },
     "metadata": {},
     "output_type": "display_data"
    }
   ],
   "execution_count": 28
  },
  {
   "metadata": {},
   "cell_type": "markdown",
   "source": [
    "# Encoding the data of feature columns\n",
    "* For other input columns(feature) one hot encoding using panda"
   ],
   "id": "cb80251bbfb2ac39"
  },
  {
   "metadata": {
    "ExecuteTime": {
     "end_time": "2025-08-15T17:57:57.895090Z",
     "start_time": "2025-08-15T17:57:57.878617Z"
    }
   },
   "cell_type": "code",
   "source": [
    "ohe_column = [column for column in df.columns if df[column].dtype == 'object'] # created the list of column of type object\n",
    "df=pd.get_dummies(df, columns=ohe_column, drop_first=True).astype(int)"
   ],
   "id": "d1682d1f726b3826",
   "outputs": [],
   "execution_count": 29
  },
  {
   "metadata": {
    "ExecuteTime": {
     "end_time": "2025-08-15T17:57:57.927433Z",
     "start_time": "2025-08-15T17:57:57.914363Z"
    }
   },
   "cell_type": "code",
   "source": "df.dtypes[df.dtypes == 'object']",
   "id": "c07ee21627e287c2",
   "outputs": [
    {
     "data": {
      "text/plain": [
       "Series([], dtype: object)"
      ]
     },
     "execution_count": 30,
     "metadata": {},
     "output_type": "execute_result"
    }
   ],
   "execution_count": 30
  },
  {
   "metadata": {},
   "cell_type": "markdown",
   "source": [
    "# Splitting the data to test and train\n",
    "* Here i will use 20% data to test and 80% to train"
   ],
   "id": "c32e375c8501a571"
  },
  {
   "metadata": {
    "ExecuteTime": {
     "end_time": "2025-08-15T17:57:57.980738Z",
     "start_time": "2025-08-15T17:57:57.966144Z"
    }
   },
   "cell_type": "code",
   "source": [
    "X = df.drop(columns=['Loan_Status'])     # X is our feature or say model input\n",
    "y = df['Loan_Status']                    # y is our target or say model output\n",
    "X_train, X_test, y_train, y_test = train_test_split(X, y, test_size=0.2, random_state=42) # split the data in test and train"
   ],
   "id": "512a30577c60d75a",
   "outputs": [],
   "execution_count": 31
  },
  {
   "metadata": {},
   "cell_type": "markdown",
   "source": [
    "# Modelling\n",
    "* **our data is supervised, small and classified type so i will use these two models**"
   ],
   "id": "4a8647d44e82740e"
  },
  {
   "metadata": {},
   "cell_type": "markdown",
   "source": "# Initializing the model 1",
   "id": "bd8ec1c70e8949d9"
  },
  {
   "metadata": {
    "ExecuteTime": {
     "end_time": "2025-08-15T17:58:02.209756Z",
     "start_time": "2025-08-15T17:57:58.012710Z"
    }
   },
   "cell_type": "code",
   "source": [
    "log_model = LogisticRegression(max_iter=10000)\n",
    "log_model.fit(X_train, y_train)\n",
    "y_pred_log= log_model.predict(X_test)"
   ],
   "id": "d89f28c3202b8c78",
   "outputs": [],
   "execution_count": 32
  },
  {
   "metadata": {
    "ExecuteTime": {
     "end_time": "2025-08-15T17:58:03.364047Z",
     "start_time": "2025-08-15T17:58:03.319700Z"
    }
   },
   "cell_type": "code",
   "source": [
    "# Logistic Regression Score\n",
    "print(\"Logistic Regression Accuracy:\", accuracy_score(y_test, log_model.predict(X_test)))\n",
    "print(confusion_matrix(y_test, log_model.predict(X_test)))\n",
    "print(classification_report(y_test, log_model.predict(X_test)))"
   ],
   "id": "fdfc287afd24544e",
   "outputs": [
    {
     "name": "stdout",
     "output_type": "stream",
     "text": [
      "Logistic Regression Accuracy: 0.7560975609756098\n",
      "[[16 30]\n",
      " [ 0 77]]\n",
      "              precision    recall  f1-score   support\n",
      "\n",
      "           0       1.00      0.35      0.52        46\n",
      "           1       0.72      1.00      0.84        77\n",
      "\n",
      "    accuracy                           0.76       123\n",
      "   macro avg       0.86      0.67      0.68       123\n",
      "weighted avg       0.82      0.76      0.72       123\n",
      "\n"
     ]
    }
   ],
   "execution_count": 33
  },
  {
   "metadata": {
    "ExecuteTime": {
     "end_time": "2025-08-15T17:58:18.059019Z",
     "start_time": "2025-08-15T17:58:03.481793Z"
    }
   },
   "cell_type": "code",
   "source": [
    "score_1 = cross_val_score(log_model, X_train, y_train, cv=5)\n",
    "print(\"Cross-validation scores:\", score_1)\n",
    "print(\"Average score:\", score_1.mean())\n"
   ],
   "id": "e88483338a0a6ade",
   "outputs": [
    {
     "name": "stdout",
     "output_type": "stream",
     "text": [
      "Cross-validation scores: [0.81632653 0.83673469 0.82653061 0.81632653 0.84693878]\n",
      "Average score: 0.8285714285714286\n"
     ]
    }
   ],
   "execution_count": 34
  },
  {
   "metadata": {},
   "cell_type": "markdown",
   "source": "# Initializing model 2",
   "id": "1c70e5271c85db7c"
  },
  {
   "metadata": {
    "ExecuteTime": {
     "end_time": "2025-08-15T17:58:18.109185Z",
     "start_time": "2025-08-15T17:58:18.096931Z"
    }
   },
   "cell_type": "code",
   "source": [
    "tree_model = DecisionTreeClassifier()\n",
    "tree_model.fit(X_train, y_train)\n",
    "y_pred_tree = tree_model.predict(X_test)"
   ],
   "id": "8a88f6c66af14013",
   "outputs": [],
   "execution_count": 35
  },
  {
   "metadata": {
    "ExecuteTime": {
     "end_time": "2025-08-15T17:58:18.154689Z",
     "start_time": "2025-08-15T17:58:18.134379Z"
    }
   },
   "cell_type": "code",
   "source": [
    "# Decision Tree Score\n",
    "print(\"Decision Tree Accuracy:\", accuracy_score(y_test, tree_model.predict(X_test)))\n",
    "print(confusion_matrix(y_test, tree_model.predict(X_test)))\n",
    "print(classification_report(y_test, tree_model.predict(X_test)))"
   ],
   "id": "f853ee4d28dda9f8",
   "outputs": [
    {
     "name": "stdout",
     "output_type": "stream",
     "text": [
      "Decision Tree Accuracy: 0.7073170731707317\n",
      "[[21 25]\n",
      " [11 66]]\n",
      "              precision    recall  f1-score   support\n",
      "\n",
      "           0       0.66      0.46      0.54        46\n",
      "           1       0.73      0.86      0.79        77\n",
      "\n",
      "    accuracy                           0.71       123\n",
      "   macro avg       0.69      0.66      0.66       123\n",
      "weighted avg       0.70      0.71      0.69       123\n",
      "\n"
     ]
    }
   ],
   "execution_count": 36
  },
  {
   "metadata": {
    "ExecuteTime": {
     "end_time": "2025-08-15T17:58:18.242476Z",
     "start_time": "2025-08-15T17:58:18.199572Z"
    }
   },
   "cell_type": "code",
   "source": [
    "score_2 = cross_val_score(tree_model, X_train, y_train, cv=5)\n",
    "print(\"Cross-validation scores:\", score_2)\n",
    "print(\"Average score:\", score_2.mean())"
   ],
   "id": "e0e249c537dbcf0f",
   "outputs": [
    {
     "name": "stdout",
     "output_type": "stream",
     "text": [
      "Cross-validation scores: [0.7244898  0.68367347 0.69387755 0.67346939 0.7244898 ]\n",
      "Average score: 0.7\n"
     ]
    }
   ],
   "execution_count": 37
  },
  {
   "metadata": {},
   "cell_type": "markdown",
   "source": "# Initializing model 3",
   "id": "2b08854a978ebca8"
  },
  {
   "metadata": {
    "ExecuteTime": {
     "end_time": "2025-08-15T17:58:18.447071Z",
     "start_time": "2025-08-15T17:58:18.279845Z"
    }
   },
   "cell_type": "code",
   "source": [
    "rf = RandomForestClassifier(random_state=42)\n",
    "rf.fit(X_train, y_train)\n",
    "y_pred_rf = rf.predict(X_test)"
   ],
   "id": "62bd225ce6105e55",
   "outputs": [],
   "execution_count": 38
  },
  {
   "metadata": {
    "ExecuteTime": {
     "end_time": "2025-08-15T17:58:18.500237Z",
     "start_time": "2025-08-15T17:58:18.454753Z"
    }
   },
   "cell_type": "code",
   "source": [
    "# Random Forest Score\n",
    "print(\"Random Forest Accuracy:\", accuracy_score(y_test, rf.predict(X_test)))\n",
    "print(confusion_matrix(y_test, rf.predict(X_test)))\n",
    "print(classification_report(y_test, rf.predict(X_test)))"
   ],
   "id": "b1ca2da14d65defb",
   "outputs": [
    {
     "name": "stdout",
     "output_type": "stream",
     "text": [
      "Random Forest Accuracy: 0.7642276422764228\n",
      "[[18 28]\n",
      " [ 1 76]]\n",
      "              precision    recall  f1-score   support\n",
      "\n",
      "           0       0.95      0.39      0.55        46\n",
      "           1       0.73      0.99      0.84        77\n",
      "\n",
      "    accuracy                           0.76       123\n",
      "   macro avg       0.84      0.69      0.70       123\n",
      "weighted avg       0.81      0.76      0.73       123\n",
      "\n"
     ]
    }
   ],
   "execution_count": 39
  },
  {
   "metadata": {
    "ExecuteTime": {
     "end_time": "2025-08-15T17:58:19.585764Z",
     "start_time": "2025-08-15T17:58:18.526663Z"
    }
   },
   "cell_type": "code",
   "source": [
    "score_3 = cross_val_score(rf, X_train, y_train, cv=5)\n",
    "print(\"Cross-validation scores:\", score_3)\n",
    "print(\"Average score:\", score_3.mean())"
   ],
   "id": "ed32373b91a7ca57",
   "outputs": [
    {
     "name": "stdout",
     "output_type": "stream",
     "text": [
      "Cross-validation scores: [0.7755102  0.84693878 0.80612245 0.80612245 0.82653061]\n",
      "Average score: 0.8122448979591838\n"
     ]
    }
   ],
   "execution_count": 40
  },
  {
   "metadata": {},
   "cell_type": "markdown",
   "source": [
    "# Model Evaluation\n",
    "* ### Acurracy order : LogisticRegression > RandomForestClassifier > DecissionTreeClassifier\n",
    "### **Key points from Output of LogisticRegression, due to higher accuracy**\n",
    "\n",
    "* **Model perfectly finds all approved cases (recall = 1.00), but struggles to detect rejected (recall = 0.35).**\n",
    "* **This means it’s biased toward predicting class 1.**\n",
    "* **High precision for class 0 (1.00) means it rarely predicts class 0 incorrectly — but it predicts very rare.**\n",
    "* **Out of total 123 predictions model only made 16 rejected prediction and they all preddict right, whereas 107 preddict as approved where 30 predictions was wrong.**"
   ],
   "id": "71498162a9bf61d1"
  }
 ],
 "metadata": {
  "kernelspec": {
   "display_name": "Python 3",
   "language": "python",
   "name": "python3"
  },
  "language_info": {
   "codemirror_mode": {
    "name": "ipython",
    "version": 2
   },
   "file_extension": ".py",
   "mimetype": "text/x-python",
   "name": "python",
   "nbconvert_exporter": "python",
   "pygments_lexer": "ipython2",
   "version": "2.7.6"
  }
 },
 "nbformat": 4,
 "nbformat_minor": 5
}
